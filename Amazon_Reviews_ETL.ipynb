{
  "nbformat": 4,
  "nbformat_minor": 0,
  "metadata": {
    "colab": {
      "name": "Amazon_Reviews_ETL.ipynb",
      "provenance": [],
      "collapsed_sections": []
    },
    "kernelspec": {
      "display_name": "PythonData",
      "language": "python",
      "name": "pythondata"
    },
    "language_info": {
      "codemirror_mode": {
        "name": "ipython",
        "version": 3
      },
      "file_extension": ".py",
      "mimetype": "text/x-python",
      "name": "python",
      "nbconvert_exporter": "python",
      "pygments_lexer": "ipython3",
      "version": "3.7.7"
    },
    "nteract": {
      "version": "0.12.3"
    }
  },
  "cells": [
    {
      "cell_type": "code",
      "metadata": {
        "id": "V58rxea0HqSa",
        "colab": {
          "base_uri": "https://localhost:8080/"
        },
        "outputId": "bcd2f943-2cbf-4e10-ec17-594e517f87f7"
      },
      "source": [
        "# Install Spark\n",
        "import os\n",
        "# Find the latest version of spark 3.0  from http://www-us.apache.org/dist/spark/ and enter as the spark version\n",
        "# For example:\n",
        "# spark_version = 'spark-3.0.2'\n",
        "spark_version = 'spark-3.0.2'\n",
        "os.environ['SPARK_VERSION']=spark_version\n",
        "\n",
        "# Install Spark and Java\n",
        "!apt-get update\n",
        "!apt-get install openjdk-11-jdk-headless -qq > /dev/null\n",
        "!wget -q http://www-us.apache.org/dist/spark/$SPARK_VERSION/$SPARK_VERSION-bin-hadoop2.7.tgz\n",
        "!tar xf $SPARK_VERSION-bin-hadoop2.7.tgz\n",
        "!pip install -q findspark\n",
        "\n",
        "# Set Environment Variables\n",
        "import os\n",
        "os.environ[\"JAVA_HOME\"] = \"/usr/lib/jvm/java-11-openjdk-amd64\"\n",
        "os.environ[\"SPARK_HOME\"] = f\"/content/{spark_version}-bin-hadoop2.7\"\n",
        "\n",
        "# Start a SparkSession\n",
        "import findspark\n",
        "findspark.init()"
      ],
      "execution_count": 1,
      "outputs": [
        {
          "output_type": "stream",
          "text": [
            "\r0% [Working]\r            \rGet:1 http://ppa.launchpad.net/c2d4u.team/c2d4u4.0+/ubuntu bionic InRelease [15.9 kB]\n",
            "\r0% [Waiting for headers] [Connecting to security.ubuntu.com (91.189.91.39)] [Co\r                                                                               \rHit:2 http://archive.ubuntu.com/ubuntu bionic InRelease\n",
            "\r0% [Connecting to security.ubuntu.com (91.189.91.39)] [Connected to cloud.r-pro\r                                                                               \rGet:3 http://archive.ubuntu.com/ubuntu bionic-updates InRelease [88.7 kB]\n",
            "\r                                                                               \rGet:4 https://cloud.r-project.org/bin/linux/ubuntu bionic-cran40/ InRelease [3,626 B]\n",
            "\r                                                                               \rHit:5 http://ppa.launchpad.net/cran/libgit2/ubuntu bionic InRelease\n",
            "\r0% [3 InRelease 51.8 kB/88.7 kB 58%] [Connecting to security.ubuntu.com (91.189\r0% [2 InRelease gpgv 242 kB] [3 InRelease 56.2 kB/88.7 kB 63%] [Connecting to s\r0% [2 InRelease gpgv 242 kB] [Waiting for headers] [Connecting to security.ubun\r                                                                               \rGet:6 http://archive.ubuntu.com/ubuntu bionic-backports InRelease [74.6 kB]\n",
            "\r0% [2 InRelease gpgv 242 kB] [6 InRelease 22.9 kB/74.6 kB 31%] [Connecting to s\r                                                                               \rHit:7 http://ppa.launchpad.net/deadsnakes/ppa/ubuntu bionic InRelease\n",
            "\r0% [2 InRelease gpgv 242 kB] [6 InRelease 69.2 kB/74.6 kB 93%] [Connecting to s\r                                                                               \rGet:8 http://ppa.launchpad.net/graphics-drivers/ppa/ubuntu bionic InRelease [21.3 kB]\n",
            "\r0% [2 InRelease gpgv 242 kB] [6 InRelease 73.6 kB/74.6 kB 99%] [Waiting for hea\r0% [2 InRelease gpgv 242 kB] [6 InRelease 73.6 kB/74.6 kB 99%] [Waiting for hea\r                                                                               \rGet:9 http://security.ubuntu.com/ubuntu bionic-security InRelease [88.7 kB]\n",
            "Ign:10 https://developer.download.nvidia.com/compute/cuda/repos/ubuntu1804/x86_64  InRelease\n",
            "Ign:11 https://developer.download.nvidia.com/compute/machine-learning/repos/ubuntu1804/x86_64  InRelease\n",
            "Hit:12 https://developer.download.nvidia.com/compute/cuda/repos/ubuntu1804/x86_64  Release\n",
            "Hit:13 https://developer.download.nvidia.com/compute/machine-learning/repos/ubuntu1804/x86_64  Release\n",
            "Get:14 http://ppa.launchpad.net/c2d4u.team/c2d4u4.0+/ubuntu bionic/main Sources [1,748 kB]\n",
            "Get:15 http://ppa.launchpad.net/c2d4u.team/c2d4u4.0+/ubuntu bionic/main amd64 Packages [894 kB]\n",
            "Get:16 http://archive.ubuntu.com/ubuntu bionic-updates/restricted amd64 Packages [378 kB]\n",
            "Get:17 http://archive.ubuntu.com/ubuntu bionic-updates/main amd64 Packages [2,475 kB]\n",
            "Get:18 http://archive.ubuntu.com/ubuntu bionic-updates/universe amd64 Packages [2,170 kB]\n",
            "Get:19 http://ppa.launchpad.net/graphics-drivers/ppa/ubuntu bionic/main amd64 Packages [49.4 kB]\n",
            "Get:20 http://security.ubuntu.com/ubuntu bionic-security/main amd64 Packages [2,045 kB]\n",
            "Get:23 http://security.ubuntu.com/ubuntu bionic-security/restricted amd64 Packages [348 kB]\n",
            "Get:24 http://security.ubuntu.com/ubuntu bionic-security/universe amd64 Packages [1,402 kB]\n",
            "Fetched 11.8 MB in 3s (3,766 kB/s)\n",
            "Reading package lists... Done\n"
          ],
          "name": "stdout"
        }
      ]
    },
    {
      "cell_type": "code",
      "metadata": {
        "id": "_xKwTpATHqSe",
        "colab": {
          "base_uri": "https://localhost:8080/"
        },
        "outputId": "95e0ee6a-a0fc-4cc2-fb92-f50781f907b5"
      },
      "source": [
        "# Download the Postgres driver that will allow Spark to interact with Postgres.\n",
        "!wget https://jdbc.postgresql.org/download/postgresql-42.2.19.jar"
      ],
      "execution_count": 2,
      "outputs": [
        {
          "output_type": "stream",
          "text": [
            "--2021-03-25 17:45:59--  https://jdbc.postgresql.org/download/postgresql-42.2.19.jar\n",
            "Resolving jdbc.postgresql.org (jdbc.postgresql.org)... 72.32.157.228, 2001:4800:3e1:1::228\n",
            "Connecting to jdbc.postgresql.org (jdbc.postgresql.org)|72.32.157.228|:443... connected.\n",
            "HTTP request sent, awaiting response... 200 OK\n",
            "Length: 1005078 (982K) [application/java-archive]\n",
            "Saving to: ‘postgresql-42.2.19.jar’\n",
            "\n",
            "postgresql-42.2.19. 100%[===================>] 981.52K  1.67MB/s    in 0.6s    \n",
            "\n",
            "2021-03-25 17:46:00 (1.67 MB/s) - ‘postgresql-42.2.19.jar’ saved [1005078/1005078]\n",
            "\n"
          ],
          "name": "stdout"
        }
      ]
    },
    {
      "cell_type": "code",
      "metadata": {
        "id": "MMqDAjVS0KN9"
      },
      "source": [
        "from pyspark.sql import SparkSession\n",
        "spark = SparkSession.builder.appName(\"BigData-Challenge\").config(\"spark.driver.extraClassPath\",\"/content/postgresql-42.2.19.jar\").getOrCreate()"
      ],
      "execution_count": 3,
      "outputs": []
    },
    {
      "cell_type": "markdown",
      "metadata": {
        "id": "cyBsySGuY-9V"
      },
      "source": [
        "### Load Amazon Data into Spark DataFrame"
      ]
    },
    {
      "cell_type": "code",
      "metadata": {
        "id": "CtCmBhQJY-9Z",
        "colab": {
          "base_uri": "https://localhost:8080/"
        },
        "outputId": "85f8fc7c-f749-4f71-e84b-b6b01a88cbcc"
      },
      "source": [
        "from pyspark import SparkFiles\n",
        "url = \"https://garden-reviews-bucket.s3.us-east-2.amazonaws.com/amazon_reviews_us_Lawn_and_Garden_v1_00.tsv\"\n",
        "spark.sparkContext.addFile(url)\n",
        "df = spark.read.option(\"encoding\", \"UTF-8\").csv(SparkFiles.get(\"\"), sep=\"\\t\", header=True, inferSchema=True)\n",
        "df.show()"
      ],
      "execution_count": 4,
      "outputs": [
        {
          "output_type": "stream",
          "text": [
            "+-----------+-----------+--------------+----------+--------------+--------------------+----------------+-----------+-------------+-----------+----+-----------------+--------------------+--------------------+-----------+\n",
            "|marketplace|customer_id|     review_id|product_id|product_parent|       product_title|product_category|star_rating|helpful_votes|total_votes|vine|verified_purchase|     review_headline|         review_body|review_date|\n",
            "+-----------+-----------+--------------+----------+--------------+--------------------+----------------+-----------+-------------+-----------+----+-----------------+--------------------+--------------------+-----------+\n",
            "|         US|   32787517| RED72VWWCOS7S|B008HDQYLQ|     348668413|Garden Weasel Gar...| Lawn and Garden|          1|            2|          8|   N|                Y|            One Star|I don't hate the ...| 2015-08-31|\n",
            "|         US|   16374060| RZHWQ208LTEPV|B005OBZBD6|     264704759|10 Foot Mc4 Solar...| Lawn and Garden|          5|            0|          0|   N|                Y|          Five Stars|        worked great| 2015-08-31|\n",
            "|         US|    9984817|R37LBC3XAVLYOO|B00RQL8U2G|      95173602|GE String A Long ...| Lawn and Garden|          5|            4|          5|   N|                Y|just what i neede...|just what i neede...| 2015-08-31|\n",
            "|         US|   12635190|R3L7XJMA0MVJWC|B0081SBO4Y|     835659279|Key Pair Lawn Wit...| Lawn and Garden|          5|            0|          0|   N|                Y|                Keys|Needed replacemen...| 2015-08-31|\n",
            "|         US|   43905102|R2I2GHSI7T1UBN|B008E6OK3U|     539243347|Zodiac R0502300 L...| Lawn and Garden|          1|            5|          6|   N|                Y|       Too expensive|Assuming you don'...| 2015-08-31|\n",
            "|         US|   52596997|R2GFFKHK4I6VMX|B00W6NTULY|     337446474|Hirts Gardens Swe...| Lawn and Garden|          5|            0|          0|   N|                Y|                Nice|Beautifully packa...| 2015-08-31|\n",
            "|         US|   43871104|R1R0UDX2XAN1S4|B00GXUMYKA|     468857193|AGPtEK 12 PCS Smo...| Lawn and Garden|          4|            0|          0|   N|                Y|These were pretty...|These were pretty...| 2015-08-31|\n",
            "|         US|   11346008|R22C8FMBSTFRY8|B005EIX8JS|     125753094|Design Toscano Ea...| Lawn and Garden|          5|            2|          2|   N|                Y|Kids love it. WIs...|Its in the center...| 2015-08-31|\n",
            "|         US|   49206471|R118NNIQ75XPGO|B000HJBKMQ|     834273114|TERRO T300 Liquid...| Lawn and Garden|          3|            0|          0|   N|                Y|      A little messy|The ants were att...| 2015-08-31|\n",
            "|         US|   37596267|R30HYXHZQ49621|B004LY59V6|     612086079|BLACK+DECKER LBXR...| Lawn and Garden|          2|            0|          0|   N|                Y|Does not hold a c...|This is advertise...| 2015-08-31|\n",
            "|         US|   31554283|R3EMLKY0GF1E90|B00CAVM85M|     280334010|Reach 'n Spray Pe...| Lawn and Garden|          5|            0|          0|   N|                Y|          Five Stars|Well made product...| 2015-08-31|\n",
            "|         US|   43211735|R23BX7EGJMGQJR|B00DP6X1LG|     233116679|Puro-Kleen Ultra-...| Lawn and Garden|          5|            1|          2|   N|                Y|It's easy to cut ...|I used this for a...| 2015-08-31|\n",
            "|         US|   25705116|R2Z4B6SDEAZF6E|B00025H2PY|     592807498|Diatomaceous Eart...| Lawn and Garden|          5|            0|          0|   N|                Y|          Five Stars|Great stuff. Gets...| 2015-08-31|\n",
            "|         US|   47041108|R35289PGJERP5J|B0079GHJXY|     408290044|Perky-Pet 312C Pa...| Lawn and Garden|          5|            0|          0|   N|                Y|          Five Stars|   Very good quality| 2015-08-31|\n",
            "|         US|    1534667|R39BPRMDKKIZL2|B004HFJ762|     404737140|Crossbow Dow Spec...| Lawn and Garden|          1|            4|          6|   N|                Y|Wrong Product- No...|This product was ...| 2015-08-31|\n",
            "|         US|   52287759| R6WFPPBS1DZMG|B00004RAGL|     773636542|Apex REM 15 15-Fo...| Lawn and Garden|          5|            0|          0|   N|                Y|dehumidifier drai...|the hose worked w...| 2015-08-31|\n",
            "|         US|   37010286| RK72M0ZBV9YLS|B010PWBNNK|     461072629|Elucto Electric B...| Lawn and Garden|          1|            3|          3|   N|                Y|   not easy it seems|I haven't killed ...| 2015-08-31|\n",
            "|         US|   30576559| RX5G150AUWRDJ|B00T77AWY6|     365662076|Ohuhu® 100 Ft Exp...| Lawn and Garden|          1|            0|          0|   N|                Y|          Five Stars|I m very disappoi...| 2015-08-31|\n",
            "|         US|   10291713|R1TMSZWIT21A31|B000UJH6HQ|     228393894|Toro 53746 Drip B...| Lawn and Garden|          3|            1|          2|   N|                Y|     Could be better|this is the fourt...| 2015-08-31|\n",
            "|         US|   50656780|R2FURVPW763CIM|B000HJBKMQ|     834273114|TERRO T300 Liquid...| Lawn and Garden|          5|            0|          0|   N|                Y|Sugar Ants are ho...|Best thing you ca...| 2015-08-31|\n",
            "+-----------+-----------+--------------+----------+--------------+--------------------+----------------+-----------+-------------+-----------+----+-----------------+--------------------+--------------------+-----------+\n",
            "only showing top 20 rows\n",
            "\n"
          ],
          "name": "stdout"
        }
      ]
    },
    {
      "cell_type": "markdown",
      "metadata": {
        "id": "2yUSe55VY-9t"
      },
      "source": [
        "### Create DataFrames to match tables"
      ]
    },
    {
      "cell_type": "code",
      "metadata": {
        "id": "C8REmY1aY-9u",
        "colab": {
          "base_uri": "https://localhost:8080/"
        },
        "outputId": "39f7cf21-0483-4b1c-9ac5-19b03f852a37"
      },
      "source": [
        "from pyspark.sql.functions import to_date\n",
        "\n",
        "# Read in the Review dataset as a DataFrame\n",
        "df.show(5)"
      ],
      "execution_count": 5,
      "outputs": [
        {
          "output_type": "stream",
          "text": [
            "+-----------+-----------+--------------+----------+--------------+--------------------+----------------+-----------+-------------+-----------+----+-----------------+--------------------+--------------------+-----------+\n",
            "|marketplace|customer_id|     review_id|product_id|product_parent|       product_title|product_category|star_rating|helpful_votes|total_votes|vine|verified_purchase|     review_headline|         review_body|review_date|\n",
            "+-----------+-----------+--------------+----------+--------------+--------------------+----------------+-----------+-------------+-----------+----+-----------------+--------------------+--------------------+-----------+\n",
            "|         US|   32787517| RED72VWWCOS7S|B008HDQYLQ|     348668413|Garden Weasel Gar...| Lawn and Garden|          1|            2|          8|   N|                Y|            One Star|I don't hate the ...| 2015-08-31|\n",
            "|         US|   16374060| RZHWQ208LTEPV|B005OBZBD6|     264704759|10 Foot Mc4 Solar...| Lawn and Garden|          5|            0|          0|   N|                Y|          Five Stars|        worked great| 2015-08-31|\n",
            "|         US|    9984817|R37LBC3XAVLYOO|B00RQL8U2G|      95173602|GE String A Long ...| Lawn and Garden|          5|            4|          5|   N|                Y|just what i neede...|just what i neede...| 2015-08-31|\n",
            "|         US|   12635190|R3L7XJMA0MVJWC|B0081SBO4Y|     835659279|Key Pair Lawn Wit...| Lawn and Garden|          5|            0|          0|   N|                Y|                Keys|Needed replacemen...| 2015-08-31|\n",
            "|         US|   43905102|R2I2GHSI7T1UBN|B008E6OK3U|     539243347|Zodiac R0502300 L...| Lawn and Garden|          1|            5|          6|   N|                Y|       Too expensive|Assuming you don'...| 2015-08-31|\n",
            "+-----------+-----------+--------------+----------+--------------+--------------------+----------------+-----------+-------------+-----------+----+-----------------+--------------------+--------------------+-----------+\n",
            "only showing top 5 rows\n",
            "\n"
          ],
          "name": "stdout"
        }
      ]
    },
    {
      "cell_type": "markdown",
      "metadata": {
        "id": "HhGrsRjQopwH"
      },
      "source": [
        "#### Create customers_table DataFrame"
      ]
    },
    {
      "cell_type": "code",
      "metadata": {
        "id": "B0TESUDRY-90",
        "colab": {
          "base_uri": "https://localhost:8080/"
        },
        "outputId": "998e3371-e863-43a2-f8ea-f2af1813a33f"
      },
      "source": [
        "from pyspark.sql.functions import count\n",
        "\n",
        "# Create the customers_table DataFrame\n",
        "customers_df = df.groupby(\"customer_id\").agg(count(\"customer_id\")).withColumnRenamed(\"count(customer_id)\", \"customer_count\")\n",
        "customers_df.show()"
      ],
      "execution_count": 8,
      "outputs": [
        {
          "output_type": "stream",
          "text": [
            "+-----------+--------------+\n",
            "|customer_id|customer_count|\n",
            "+-----------+--------------+\n",
            "|   46263557|             1|\n",
            "|   44418648|             1|\n",
            "|   34220092|             1|\n",
            "|   10770444|             1|\n",
            "|   12819130|             1|\n",
            "|   24692214|             3|\n",
            "|   51981844|             3|\n",
            "|   43622169|             1|\n",
            "|   43097449|             1|\n",
            "|   45978717|             1|\n",
            "|   20227781|             1|\n",
            "|   11487525|             4|\n",
            "|   31169607|             1|\n",
            "|   22552080|             2|\n",
            "|   15829398|             2|\n",
            "|   46909180|             1|\n",
            "|     198573|             3|\n",
            "|   33383395|             1|\n",
            "|    2934525|             3|\n",
            "|    2333626|             1|\n",
            "+-----------+--------------+\n",
            "only showing top 20 rows\n",
            "\n"
          ],
          "name": "stdout"
        }
      ]
    },
    {
      "cell_type": "markdown",
      "metadata": {
        "id": "vsPoVMqGpowl"
      },
      "source": [
        "#### Create products_table DataFrame"
      ]
    },
    {
      "cell_type": "code",
      "metadata": {
        "id": "4FwXA6UvY-96",
        "colab": {
          "base_uri": "https://localhost:8080/"
        },
        "outputId": "b85e0fa7-5725-4908-94c4-514d74d842f1"
      },
      "source": [
        "# Create the products_table DataFrame and drop duplicates\n",
        "products_df = df.select(['product_id', 'product_title']).drop_duplicates()\n",
        "products_df.show()"
      ],
      "execution_count": 9,
      "outputs": [
        {
          "output_type": "stream",
          "text": [
            "+----------+--------------------+\n",
            "|product_id|       product_title|\n",
            "+----------+--------------------+\n",
            "|B0081SBO4Y|Key Pair Lawn Wit...|\n",
            "|B00EGFKOZ6|Swiftly Done Brig...|\n",
            "|B00SOU5MYM|Apalus 4.2\" LCD S...|\n",
            "|B00GIDK4LS|Genuine Honda OEM...|\n",
            "|B001GQTZ4E|Luster Leaf Rapic...|\n",
            "|B000BQM5DS|Roebic Laboratori...|\n",
            "|B00AUXEVFW|Sunset Flower- 25...|\n",
            "|B006RYWT7K|Stens 390-040 Nyl...|\n",
            "|B00KGCHQIG|    Grey Ground Caps|\n",
            "|B00UE7H4GW|bbq factory® JBX5...|\n",
            "|B00BJ8AAE8|Winter Squash, Su...|\n",
            "|B00HUDTYSO|20W x 19Dx 2.5H S...|\n",
            "|B007PZBARU|Hearth & Garden L...|\n",
            "|B00IOVPUJS|Husqvarna HU625HW...|\n",
            "|B004AWAXOM|30\"x60' Mexican T...|\n",
            "|B00BD2BA1C|Classic Accessori...|\n",
            "|B00XYMHZ5Y|Pool Blaster Ecli...|\n",
            "|B000RUAR0G|Sevin Lawn Insect...|\n",
            "|B001GP85G4|Zodiac B5 Sweep H...|\n",
            "|B009P8BW9G|Miniature Fairy G...|\n",
            "+----------+--------------------+\n",
            "only showing top 20 rows\n",
            "\n"
          ],
          "name": "stdout"
        }
      ]
    },
    {
      "cell_type": "markdown",
      "metadata": {
        "id": "YKHCSy60ptRL"
      },
      "source": [
        "#### Create review_id DataFrame"
      ]
    },
    {
      "cell_type": "code",
      "metadata": {
        "id": "MkqyCuNQY-9-"
      },
      "source": [
        "# Create the review_id_table DataFrame. \n",
        "# Convert the 'review_date' column to a date datatype with to_date(\"review_date\", 'yyyy-MM-dd').alias(\"review_date\")\n",
        "# review_id_df = df.select([, to_date(\"review_date\", 'yyyy-MM-dd').alias(\"review_date\")])"
      ],
      "execution_count": null,
      "outputs": []
    },
    {
      "cell_type": "markdown",
      "metadata": {
        "id": "S8NQJI2Ypwmx"
      },
      "source": [
        "#### Create vine_table DataFrame"
      ]
    },
    {
      "cell_type": "code",
      "metadata": {
        "id": "lzMmkdKmY--D"
      },
      "source": [
        "# Create the vine_table. DataFrame\n",
        "# vine_df = df.select([])"
      ],
      "execution_count": null,
      "outputs": []
    },
    {
      "cell_type": "markdown",
      "metadata": {
        "id": "jITZhLkmY--J"
      },
      "source": [
        "### Connect to the AWS RDS instance and write each DataFrame to its table. "
      ]
    },
    {
      "cell_type": "code",
      "metadata": {
        "id": "7jiUvs1aY--L"
      },
      "source": [
        "# Configure settings for RDS\n",
        "mode = \"append\"\n",
        "jdbc_url=\"jdbc:postgresql://<endpoint>:5432/<database name>\"\n",
        "config = {\"user\":\"postgres\", \n",
        "          \"password\": \"<password>\", \n",
        "          \"driver\":\"org.postgresql.Driver\"}"
      ],
      "execution_count": null,
      "outputs": []
    },
    {
      "cell_type": "code",
      "metadata": {
        "id": "T2zgZ-aKY--Q"
      },
      "source": [
        "# Write review_id_df to table in RDS\n",
        "review_id_df.write.jdbc(url=jdbc_url, table='review_id_table', mode=mode, properties=config)"
      ],
      "execution_count": null,
      "outputs": []
    },
    {
      "cell_type": "code",
      "metadata": {
        "id": "1m3yzn-LY--U"
      },
      "source": [
        "# Write products_df to table in RDS\n",
        "# about 3 min\n",
        "products_df.write.jdbc(url=jdbc_url, table='products_table', mode=mode, properties=config)"
      ],
      "execution_count": null,
      "outputs": []
    },
    {
      "cell_type": "code",
      "metadata": {
        "id": "KbXri15fY--Z"
      },
      "source": [
        "# Write customers_df to table in RDS\n",
        "# 5 min 14 s\n",
        "customers_df.write.jdbc(url=jdbc_url, table='customers_table', mode=mode, properties=config)"
      ],
      "execution_count": null,
      "outputs": []
    },
    {
      "cell_type": "code",
      "metadata": {
        "id": "XdQknSHLY--e"
      },
      "source": [
        "# Write vine_df to table in RDS\n",
        "# 11 minutes\n",
        "vine_df.write.jdbc(url=jdbc_url, table='vine_table', mode=mode, properties=config)"
      ],
      "execution_count": null,
      "outputs": []
    },
    {
      "cell_type": "code",
      "metadata": {
        "id": "Exuo6ebUsCqW"
      },
      "source": [
        ""
      ],
      "execution_count": null,
      "outputs": []
    }
  ]
}